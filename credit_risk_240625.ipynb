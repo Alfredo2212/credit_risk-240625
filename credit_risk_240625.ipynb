{
  "cells": [
    {
      "cell_type": "markdown",
      "metadata": {
        "colab_type": "text",
        "id": "view-in-github"
      },
      "source": [
        "<a href=\"https://colab.research.google.com/github/Alfredo2212/credit_risk-240625/blob/main/credit_risk_240625.ipynb\" target=\"_parent\"><img src=\"https://colab.research.google.com/assets/colab-badge.svg\" alt=\"Open In Colab\"/></a>"
      ]
    },
    {
      "cell_type": "markdown",
      "metadata": {
        "id": "6mpAY_o4GmcJ"
      },
      "source": [
        "### **Import the necessary libraries**"
      ]
    },
    {
      "cell_type": "code",
      "execution_count": 1,
      "metadata": {
        "id": "fGXllkUhF1hQ"
      },
      "outputs": [],
      "source": [
        "import numpy as np\n",
        "import pandas as pd\n",
        "import matplotlib.pyplot as plt\n",
        "import seaborn as sns\n",
        "sns.set_theme()\n",
        "\n",
        "from sklearn.model_selection import train_test_split, GridSearchCV\n",
        "from sklearn.linear_model import LogisticRegression\n",
        "from sklearn import metrics\n",
        "from sklearn.metrics import confusion_matrix, classification_report, accuracy_score, precision_score, recall_score, f1_score\n",
        "from sklearn import tree\n",
        "from sklearn.tree import DecisionTreeClassifier\n",
        "from sklearn.ensemble import BaggingClassifier\n",
        "from sklearn.ensemble import RandomForestClassifier\n",
        "\n",
        "import scipy.stats as stats\n",
        "import warnings\n",
        "warnings.filterwarnings('ignore')"
      ]
    },
    {
      "cell_type": "markdown",
      "metadata": {
        "id": "bbOw3zCCH1fx"
      },
      "source": [
        "### **Import Dataset & Overview**"
      ]
    },
    {
      "cell_type": "code",
      "execution_count": 2,
      "metadata": {
        "id": "vrowx1L9H--D"
      },
      "outputs": [],
      "source": [
        "df = pd.read_csv(\"https://raw.githubusercontent.com/Alfredo2212/credit_risk-240625/main/data/credit_risk.csv\")"
      ]
    },
    {
      "cell_type": "code",
      "execution_count": 3,
      "metadata": {
        "colab": {
          "base_uri": "https://localhost:8080/",
          "height": 224
        },
        "id": "e8jr8sFDISQU",
        "outputId": "7d3b67bd-61ea-4f58-8478-c5f2d3a4b9c3"
      },
      "outputs": [
        {
          "data": {
            "text/html": [
              "<div>\n",
              "<style scoped>\n",
              "    .dataframe tbody tr th:only-of-type {\n",
              "        vertical-align: middle;\n",
              "    }\n",
              "\n",
              "    .dataframe tbody tr th {\n",
              "        vertical-align: top;\n",
              "    }\n",
              "\n",
              "    .dataframe thead th {\n",
              "        text-align: right;\n",
              "    }\n",
              "</style>\n",
              "<table border=\"1\" class=\"dataframe\">\n",
              "  <thead>\n",
              "    <tr style=\"text-align: right;\">\n",
              "      <th></th>\n",
              "      <th>BAD</th>\n",
              "      <th>LOAN</th>\n",
              "      <th>MORTDUE</th>\n",
              "      <th>VALUE</th>\n",
              "      <th>REASON</th>\n",
              "      <th>JOB</th>\n",
              "      <th>YOJ</th>\n",
              "      <th>DEROG</th>\n",
              "      <th>DELINQ</th>\n",
              "      <th>CLAGE</th>\n",
              "      <th>NINQ</th>\n",
              "      <th>CLNO</th>\n",
              "      <th>DEBTINC</th>\n",
              "    </tr>\n",
              "  </thead>\n",
              "  <tbody>\n",
              "    <tr>\n",
              "      <th>0</th>\n",
              "      <td>1</td>\n",
              "      <td>1100</td>\n",
              "      <td>25860.0</td>\n",
              "      <td>39025.0</td>\n",
              "      <td>HomeImp</td>\n",
              "      <td>Other</td>\n",
              "      <td>10.5</td>\n",
              "      <td>0.0</td>\n",
              "      <td>0.0</td>\n",
              "      <td>94.366667</td>\n",
              "      <td>1.0</td>\n",
              "      <td>9.0</td>\n",
              "      <td>NaN</td>\n",
              "    </tr>\n",
              "    <tr>\n",
              "      <th>1</th>\n",
              "      <td>1</td>\n",
              "      <td>1300</td>\n",
              "      <td>70053.0</td>\n",
              "      <td>68400.0</td>\n",
              "      <td>HomeImp</td>\n",
              "      <td>Other</td>\n",
              "      <td>7.0</td>\n",
              "      <td>0.0</td>\n",
              "      <td>2.0</td>\n",
              "      <td>121.833333</td>\n",
              "      <td>0.0</td>\n",
              "      <td>14.0</td>\n",
              "      <td>NaN</td>\n",
              "    </tr>\n",
              "    <tr>\n",
              "      <th>2</th>\n",
              "      <td>1</td>\n",
              "      <td>1500</td>\n",
              "      <td>13500.0</td>\n",
              "      <td>16700.0</td>\n",
              "      <td>HomeImp</td>\n",
              "      <td>Other</td>\n",
              "      <td>4.0</td>\n",
              "      <td>0.0</td>\n",
              "      <td>0.0</td>\n",
              "      <td>149.466667</td>\n",
              "      <td>1.0</td>\n",
              "      <td>10.0</td>\n",
              "      <td>NaN</td>\n",
              "    </tr>\n",
              "    <tr>\n",
              "      <th>3</th>\n",
              "      <td>1</td>\n",
              "      <td>1500</td>\n",
              "      <td>NaN</td>\n",
              "      <td>NaN</td>\n",
              "      <td>NaN</td>\n",
              "      <td>NaN</td>\n",
              "      <td>NaN</td>\n",
              "      <td>NaN</td>\n",
              "      <td>NaN</td>\n",
              "      <td>NaN</td>\n",
              "      <td>NaN</td>\n",
              "      <td>NaN</td>\n",
              "      <td>NaN</td>\n",
              "    </tr>\n",
              "    <tr>\n",
              "      <th>4</th>\n",
              "      <td>0</td>\n",
              "      <td>1700</td>\n",
              "      <td>97800.0</td>\n",
              "      <td>112000.0</td>\n",
              "      <td>HomeImp</td>\n",
              "      <td>Office</td>\n",
              "      <td>3.0</td>\n",
              "      <td>0.0</td>\n",
              "      <td>0.0</td>\n",
              "      <td>93.333333</td>\n",
              "      <td>0.0</td>\n",
              "      <td>14.0</td>\n",
              "      <td>NaN</td>\n",
              "    </tr>\n",
              "  </tbody>\n",
              "</table>\n",
              "</div>"
            ],
            "text/plain": [
              "   BAD  LOAN  MORTDUE     VALUE   REASON     JOB   YOJ  DEROG  DELINQ  \\\n",
              "0    1  1100  25860.0   39025.0  HomeImp   Other  10.5    0.0     0.0   \n",
              "1    1  1300  70053.0   68400.0  HomeImp   Other   7.0    0.0     2.0   \n",
              "2    1  1500  13500.0   16700.0  HomeImp   Other   4.0    0.0     0.0   \n",
              "3    1  1500      NaN       NaN      NaN     NaN   NaN    NaN     NaN   \n",
              "4    0  1700  97800.0  112000.0  HomeImp  Office   3.0    0.0     0.0   \n",
              "\n",
              "        CLAGE  NINQ  CLNO  DEBTINC  \n",
              "0   94.366667   1.0   9.0      NaN  \n",
              "1  121.833333   0.0  14.0      NaN  \n",
              "2  149.466667   1.0  10.0      NaN  \n",
              "3         NaN   NaN   NaN      NaN  \n",
              "4   93.333333   0.0  14.0      NaN  "
            ]
          },
          "execution_count": 3,
          "metadata": {},
          "output_type": "execute_result"
        }
      ],
      "source": [
        "df.head()"
      ]
    },
    {
      "cell_type": "code",
      "execution_count": 4,
      "metadata": {
        "colab": {
          "base_uri": "https://localhost:8080/"
        },
        "id": "p0L8AewFJFll",
        "outputId": "7ad19c0e-f888-46fe-8e12-e3b4b410e6f7"
      },
      "outputs": [
        {
          "data": {
            "text/plain": [
              "(5960, 13)"
            ]
          },
          "execution_count": 4,
          "metadata": {},
          "output_type": "execute_result"
        }
      ],
      "source": [
        "df.shape"
      ]
    },
    {
      "cell_type": "markdown",
      "metadata": {
        "id": "JHjmTPhJI6hd"
      },
      "source": [
        "### **Data Wrangling PRE Tableau**"
      ]
    },
    {
      "cell_type": "code",
      "execution_count": 8,
      "metadata": {
        "colab": {
          "base_uri": "https://localhost:8080/"
        },
        "id": "yOnDq0SWJV6B",
        "outputId": "08b0962f-6511-4c14-ebc1-7af109479dd2"
      },
      "outputs": [
        {
          "name": "stdout",
          "output_type": "stream",
          "text": [
            "<class 'pandas.core.frame.DataFrame'>\n",
            "Index: 4831 entries, 0 to 5959\n",
            "Data columns (total 13 columns):\n",
            " #   Column   Non-Null Count  Dtype  \n",
            "---  ------   --------------  -----  \n",
            " 0   BAD      4831 non-null   int64  \n",
            " 1   LOAN     4831 non-null   int64  \n",
            " 2   MORTDUE  4831 non-null   float64\n",
            " 3   VALUE    4831 non-null   float64\n",
            " 4   REASON   4831 non-null   object \n",
            " 5   JOB      4831 non-null   object \n",
            " 6   YOJ      4831 non-null   float64\n",
            " 7   DEROG    4831 non-null   float64\n",
            " 8   DELINQ   4831 non-null   float64\n",
            " 9   CLAGE    4831 non-null   float64\n",
            " 10  NINQ     4831 non-null   float64\n",
            " 11  CLNO     4831 non-null   float64\n",
            " 12  DEBTINC  4831 non-null   float64\n",
            "dtypes: float64(9), int64(2), object(2)\n",
            "memory usage: 528.4+ KB\n"
          ]
        }
      ],
      "source": [
        "df.info()"
      ]
    },
    {
      "cell_type": "markdown",
      "metadata": {
        "id": "bwZiUOazJ9Nv"
      },
      "source": [
        "The credit risk dataset consists of 5,960 records across 13 variables, with the target variable BAD indicating loan default. While key variables like LOAN and BAD are complete, many others contain missing values—DEBTINC, MORTDUE, and DEROG in particular—suggesting the need for imputation or exclusion.\n",
        "\n",
        "An appropriate approach would be checking features with null values' distribution and impute it with possible central tendencies for continuous features and mode for categorical features"
      ]
    },
    {
      "cell_type": "code",
      "execution_count": 9,
      "metadata": {
        "colab": {
          "base_uri": "https://localhost:8080/",
          "height": 1000
        },
        "id": "pEipeZtNJXW3",
        "outputId": "3583777a-c486-4fef-f83d-45ceabaec502"
      },
      "outputs": [],
      "source": [
        "# Check features before imputation to see the possibilities of imputation\n",
        "cols_with_na = df.columns[df.isnull().any()]\n",
        "\n",
        "for col in cols_with_na:\n",
        "  plt.figure(figsize=(4,2))\n",
        "  sns.histplot(df[col], kde=True)\n",
        "  plt.title(f'Distribution of {col}')\n",
        "  plt.xlabel(col)\n",
        "  plt.ylabel('Count')\n",
        "  plt.tight_layout()\n",
        "  plt.show()"
      ]
    },
    {
      "cell_type": "markdown",
      "metadata": {
        "id": "gt_qiFC5LWjE"
      },
      "source": [
        "For ~N(M, Std) we can impute the null values with mean\n",
        "\n",
        "For skewed distibution, long tailed we will impute median\n",
        "\n",
        "For categorical with majority of values with mode\n",
        "\n",
        "The rest will be dropped. This will balance the data quality and predictive performance"
      ]
    },
    {
      "cell_type": "code",
      "execution_count": 10,
      "metadata": {
        "colab": {
          "base_uri": "https://localhost:8080/"
        },
        "id": "HjmR74IdLOLM",
        "outputId": "5def8a21-892f-476c-95ca-4114c88baec6"
      },
      "outputs": [
        {
          "name": "stdout",
          "output_type": "stream",
          "text": [
            "<class 'pandas.core.frame.DataFrame'>\n",
            "Index: 4831 entries, 0 to 5959\n",
            "Data columns (total 13 columns):\n",
            " #   Column   Non-Null Count  Dtype  \n",
            "---  ------   --------------  -----  \n",
            " 0   BAD      4831 non-null   int64  \n",
            " 1   LOAN     4831 non-null   int64  \n",
            " 2   MORTDUE  4831 non-null   float64\n",
            " 3   VALUE    4831 non-null   float64\n",
            " 4   REASON   4831 non-null   object \n",
            " 5   JOB      4831 non-null   object \n",
            " 6   YOJ      4831 non-null   float64\n",
            " 7   DEROG    4831 non-null   float64\n",
            " 8   DELINQ   4831 non-null   float64\n",
            " 9   CLAGE    4831 non-null   float64\n",
            " 10  NINQ     4831 non-null   float64\n",
            " 11  CLNO     4831 non-null   float64\n",
            " 12  DEBTINC  4831 non-null   float64\n",
            "dtypes: float64(9), int64(2), object(2)\n",
            "memory usage: 528.4+ KB\n"
          ]
        }
      ],
      "source": [
        "# Impute mean for DEBTINC and CLNO\n",
        "df['DEBTINC'].fillna(df['DEBTINC'].mean(), inplace=True)\n",
        "df['CLNO'].fillna(df['CLNO'].mean(), inplace=True)\n",
        "\n",
        "# Impute median for MORTDUE and VALUE\n",
        "df['MORTDUE'].fillna(df['MORTDUE'].median(), inplace=True)\n",
        "df['VALUE'].fillna(df['VALUE'].median(), inplace=True)\n",
        "\n",
        "# Impute mode for DEROG and DELINQ\n",
        "df['DEROG'].fillna(0, inplace=True)\n",
        "df['DELINQ'].fillna(0, inplace=True)\n",
        "\n",
        "# Drop the rest null values\n",
        "df.dropna(inplace=True)\n",
        "\n",
        "# Check result\n",
        "df.info()"
      ]
    },
    {
      "cell_type": "code",
      "execution_count": 11,
      "metadata": {
        "colab": {
          "base_uri": "https://localhost:8080/"
        },
        "id": "lAbVRGvmLxBJ",
        "outputId": "ea571a14-767b-43d0-b3f5-7db703114057"
      },
      "outputs": [
        {
          "data": {
            "text/plain": [
              "(4831, 13)"
            ]
          },
          "execution_count": 11,
          "metadata": {},
          "output_type": "execute_result"
        }
      ],
      "source": [
        "# Check for duplicates\n",
        "df.drop_duplicates(inplace=True)\n",
        "df.shape"
      ]
    },
    {
      "cell_type": "markdown",
      "metadata": {
        "id": "AUg6PFvrPTK9"
      },
      "source": [
        "No duplicated data found"
      ]
    },
    {
      "cell_type": "code",
      "execution_count": 12,
      "metadata": {
        "colab": {
          "base_uri": "https://localhost:8080/",
          "height": 131
        },
        "id": "vjvHb82DPRL0",
        "outputId": "1907f44c-481c-44df-f1bc-0c5df2df8bf8"
      },
      "outputs": [
        {
          "data": {
            "text/html": [
              "<div>\n",
              "<style scoped>\n",
              "    .dataframe tbody tr th:only-of-type {\n",
              "        vertical-align: middle;\n",
              "    }\n",
              "\n",
              "    .dataframe tbody tr th {\n",
              "        vertical-align: top;\n",
              "    }\n",
              "\n",
              "    .dataframe thead th {\n",
              "        text-align: right;\n",
              "    }\n",
              "</style>\n",
              "<table border=\"1\" class=\"dataframe\">\n",
              "  <thead>\n",
              "    <tr style=\"text-align: right;\">\n",
              "      <th></th>\n",
              "      <th>default_flag</th>\n",
              "      <th>loan_amount</th>\n",
              "      <th>mortgage_due</th>\n",
              "      <th>property_value</th>\n",
              "      <th>loan_reason</th>\n",
              "      <th>job_type</th>\n",
              "      <th>years_on_job</th>\n",
              "      <th>derogatory_reports</th>\n",
              "      <th>delinquent_credit</th>\n",
              "      <th>oldest_credit_line</th>\n",
              "      <th>recent_credit_inquiries</th>\n",
              "      <th>open_credit_lines</th>\n",
              "      <th>debt_income_ratio</th>\n",
              "    </tr>\n",
              "  </thead>\n",
              "  <tbody>\n",
              "    <tr>\n",
              "      <th>0</th>\n",
              "      <td>1</td>\n",
              "      <td>1100</td>\n",
              "      <td>25860.0</td>\n",
              "      <td>39025.0</td>\n",
              "      <td>HomeImp</td>\n",
              "      <td>Other</td>\n",
              "      <td>10.5</td>\n",
              "      <td>0.0</td>\n",
              "      <td>0.0</td>\n",
              "      <td>94.366667</td>\n",
              "      <td>1.0</td>\n",
              "      <td>9.0</td>\n",
              "      <td>33.779915</td>\n",
              "    </tr>\n",
              "    <tr>\n",
              "      <th>1</th>\n",
              "      <td>1</td>\n",
              "      <td>1300</td>\n",
              "      <td>70053.0</td>\n",
              "      <td>68400.0</td>\n",
              "      <td>HomeImp</td>\n",
              "      <td>Other</td>\n",
              "      <td>7.0</td>\n",
              "      <td>0.0</td>\n",
              "      <td>2.0</td>\n",
              "      <td>121.833333</td>\n",
              "      <td>0.0</td>\n",
              "      <td>14.0</td>\n",
              "      <td>33.779915</td>\n",
              "    </tr>\n",
              "  </tbody>\n",
              "</table>\n",
              "</div>"
            ],
            "text/plain": [
              "   default_flag  loan_amount  mortgage_due  property_value loan_reason  \\\n",
              "0             1         1100       25860.0         39025.0     HomeImp   \n",
              "1             1         1300       70053.0         68400.0     HomeImp   \n",
              "\n",
              "  job_type  years_on_job  derogatory_reports  delinquent_credit  \\\n",
              "0    Other          10.5                 0.0                0.0   \n",
              "1    Other           7.0                 0.0                2.0   \n",
              "\n",
              "   oldest_credit_line  recent_credit_inquiries  open_credit_lines  \\\n",
              "0           94.366667                      1.0                9.0   \n",
              "1          121.833333                      0.0               14.0   \n",
              "\n",
              "   debt_income_ratio  \n",
              "0          33.779915  \n",
              "1          33.779915  "
            ]
          },
          "execution_count": 12,
          "metadata": {},
          "output_type": "execute_result"
        }
      ],
      "source": [
        "# Rename the variables for better visualization and report\n",
        "df.rename(columns={\n",
        "    'BAD': 'default_flag',\n",
        "    'LOAN': 'loan_amount',\n",
        "    'MORTDUE': 'mortgage_due',\n",
        "    'VALUE': 'property_value',\n",
        "    'REASON': 'loan_reason',\n",
        "    'JOB': 'job_type',\n",
        "    'YOJ': 'years_on_job',\n",
        "    'DEROG': 'derogatory_reports',\n",
        "    'DELINQ': 'delinquent_credit',\n",
        "    'CLAGE': 'oldest_credit_line',\n",
        "    'NINQ': 'recent_credit_inquiries',\n",
        "    'CLNO': 'open_credit_lines',\n",
        "    'DEBTINC': 'debt_income_ratio'\n",
        "}, inplace = True)\n",
        "\n",
        "df.head(2)"
      ]
    },
    {
      "cell_type": "markdown",
      "metadata": {
        "id": "q0iXzhbMRRjo"
      },
      "source": [
        "### **Download CSV for TableAU Analysis**"
      ]
    },
    {
      "cell_type": "code",
      "execution_count": null,
      "metadata": {
        "colab": {
          "base_uri": "https://localhost:8080/",
          "height": 17
        },
        "id": "EZ2oveHpRURJ",
        "outputId": "4cf34414-46f8-4f76-ea52-2f9b28ccc1a9"
      },
      "outputs": [
        {
          "data": {
            "application/javascript": "\n    async function download(id, filename, size) {\n      if (!google.colab.kernel.accessAllowed) {\n        return;\n      }\n      const div = document.createElement('div');\n      const label = document.createElement('label');\n      label.textContent = `Downloading \"${filename}\": `;\n      div.appendChild(label);\n      const progress = document.createElement('progress');\n      progress.max = size;\n      div.appendChild(progress);\n      document.body.appendChild(div);\n\n      const buffers = [];\n      let downloaded = 0;\n\n      const channel = await google.colab.kernel.comms.open(id);\n      // Send a message to notify the kernel that we're ready.\n      channel.send({})\n\n      for await (const message of channel.messages) {\n        // Send a message to notify the kernel that we're ready.\n        channel.send({})\n        if (message.buffers) {\n          for (const buffer of message.buffers) {\n            buffers.push(buffer);\n            downloaded += buffer.byteLength;\n            progress.value = downloaded;\n          }\n        }\n      }\n      const blob = new Blob(buffers, {type: 'application/binary'});\n      const a = document.createElement('a');\n      a.href = window.URL.createObjectURL(blob);\n      a.download = filename;\n      div.appendChild(a);\n      a.click();\n      div.remove();\n    }\n  ",
            "text/plain": [
              "<IPython.core.display.Javascript object>"
            ]
          },
          "metadata": {},
          "output_type": "display_data"
        },
        {
          "data": {
            "application/javascript": "download(\"download_c2fdf4b0-26bd-4743-9c16-710e94c93a87\", \"credit_risk-240625_TableAU.csv\", 418895)",
            "text/plain": [
              "<IPython.core.display.Javascript object>"
            ]
          },
          "metadata": {},
          "output_type": "display_data"
        }
      ],
      "source": [
        "#df.to_csv('credit_risk-240625_TableAU.csv', index=False)\n",
        "#files.download('credit_risk-240625_TableAU.csv')"
      ]
    }
  ],
  "metadata": {
    "colab": {
      "authorship_tag": "ABX9TyPzP5zv7UfK+16VLB7zxHAT",
      "include_colab_link": true,
      "provenance": []
    },
    "kernelspec": {
      "display_name": "credit_risk_240625",
      "language": "python",
      "name": "python3"
    },
    "language_info": {
      "codemirror_mode": {
        "name": "ipython",
        "version": 3
      },
      "file_extension": ".py",
      "mimetype": "text/x-python",
      "name": "python",
      "nbconvert_exporter": "python",
      "pygments_lexer": "ipython3",
      "version": "3.10.18"
    }
  },
  "nbformat": 4,
  "nbformat_minor": 0
}
